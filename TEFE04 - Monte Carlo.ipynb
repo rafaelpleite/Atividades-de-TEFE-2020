{
 "cells": [
  {
   "cell_type": "code",
   "execution_count": 1,
   "metadata": {},
   "outputs": [],
   "source": [
    "import numpy as np\n",
    "import matplotlib.pyplot as plt\n",
    "import seaborn as sns"
   ]
  },
  {
   "cell_type": "markdown",
   "metadata": {},
   "source": [
    "3 Considere o experimento de queda das bolinhas do alto do edifício Oscar Sala (Pelletron) mostrado na 1ª aula (slides na página da disciplina no Moodle). Supondo que o valor verdadeiro do tempo de queda seja 𝑡0 = 2,525 𝑠, simule experimentos onde são medidos 𝑛 = 287 tempos sujeitos apenas a erros aleatórios gaussianos de desvio-padrão 𝜎𝑡 = 0,15 𝑠.\n",
    "\n",
    "Simule 𝑴 = 𝟏𝟎. 𝟎𝟎𝟎 repetições do experimento (cada experimento como sendo composto por 𝒏 = 𝟐𝟖𝟕 medições do tempo, 𝒕) e registre os resultados finais, 𝒕𝒇, de cada experimento (𝒕𝒇 é a média dos 𝒏 valores de 𝒕 obtidos em cada repetição do experimento)."
   ]
  },
  {
   "cell_type": "code",
   "execution_count": 2,
   "metadata": {},
   "outputs": [],
   "source": [
    "def simExpA(N, sA, t0):\n",
    "    t = np.zeros((N,1))\n",
    "    for i, val in enumerate(t, 0):\n",
    "        t[i] = t0 + sA*np.random.randn()\n",
    "    return np.mean(t)"
   ]
  },
  {
   "cell_type": "markdown",
   "metadata": {},
   "source": [
    "a) Usando o valor médio de tempo de cada simulação, 𝑡𝑓, calcule a aceleração de queda considerando que a altura seja Δ𝐻 = 34,0 𝑚 e que a velocidade vertical inicial seja nula, 𝑎 = 2Δ𝐻/(𝑡𝑓)^2. Estime a incerteza dessas acelerações, 𝜎𝑎 (𝜎𝑎 é o desvio-padrão amostral dos valores de 𝑎)."
   ]
  },
  {
   "cell_type": "code",
   "execution_count": 3,
   "metadata": {},
   "outputs": [
    {
     "name": "stdout",
     "output_type": "stream",
     "text": [
      "t_f = (2.5250 ± 0.0089)s\n"
     ]
    }
   ],
   "source": [
    "N = 287\n",
    "sA = 0.15\n",
    "t0 = 2.525\n",
    "\n",
    "M = 10000\n",
    "T = np.zeros((M,1))\n",
    "\n",
    "for j in range(M):\n",
    "     T[j] = simExpA(N, sA, t0)\n",
    "        \n",
    "print('t_f = ({:.4f} ± {:.4f})s'.format(np.mean(T),np.std(T, ddof=1)))"
   ]
  },
  {
   "cell_type": "markdown",
   "metadata": {},
   "source": [
    "b) Calcule o valor verdadeiro da aceleração de queda, 𝑎0, usando o valor verdadeiro dotempo de queda. Em quantas das 𝑀 repetições, o valor calculado de 𝑎 é maior que 𝑎0? Em quantas o módulo da diferença entre 𝑎 e 𝑎0 é menor que a incerteza de 𝑎? \n",
    "\n",
    "Vamos resolver isso por partes.\n",
    "\n",
    "Primeramente, o valores de a0,"
   ]
  },
  {
   "cell_type": "code",
   "execution_count": 4,
   "metadata": {},
   "outputs": [
    {
     "name": "stdout",
     "output_type": "stream",
     "text": [
      "A = (10.666 ± 0.075)m\n"
     ]
    }
   ],
   "source": [
    "for i in range(len(T)):\n",
    "    T[i] = 2*34/(T[i]**2)\n",
    "a_0 = np.mean(T)\n",
    "\n",
    "print('A = ({:.3f} ± {:.3f})m'.format(a_0,np.std(T, ddof=1)))"
   ]
  },
  {
   "cell_type": "markdown",
   "metadata": {},
   "source": [
    "Em quantas das 𝑀 repetições, o valor calculado de 𝑎 é maior que 𝑎0,"
   ]
  },
  {
   "cell_type": "code",
   "execution_count": 5,
   "metadata": {},
   "outputs": [
    {
     "name": "stdout",
     "output_type": "stream",
     "text": [
      "a > a_0: 4973\n"
     ]
    }
   ],
   "source": [
    "print('a > a_0: {}'.format(np.sum(T>a_0)))"
   ]
  },
  {
   "cell_type": "markdown",
   "metadata": {},
   "source": [
    "Em quantas o módulo da diferença entre 𝑎 e 𝑎0 é menor que a incerteza de σa"
   ]
  },
  {
   "cell_type": "code",
   "execution_count": 6,
   "metadata": {},
   "outputs": [
    {
     "name": "stdout",
     "output_type": "stream",
     "text": [
      "|a - a_0| < σa: 6808\n"
     ]
    }
   ],
   "source": [
    "print('|a - a_0| < σa: {}'.format(np.sum(abs(T-a_0) < np.std(T, ddof=1))))"
   ]
  }
 ],
 "metadata": {
  "kernelspec": {
   "display_name": "Python 3",
   "language": "python",
   "name": "python3"
  },
  "language_info": {
   "codemirror_mode": {
    "name": "ipython",
    "version": 3
   },
   "file_extension": ".py",
   "mimetype": "text/x-python",
   "name": "python",
   "nbconvert_exporter": "python",
   "pygments_lexer": "ipython3",
   "version": "3.8.3"
  }
 },
 "nbformat": 4,
 "nbformat_minor": 4
}
