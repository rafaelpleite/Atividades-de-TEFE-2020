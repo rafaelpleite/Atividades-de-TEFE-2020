{
 "cells": [
  {
   "cell_type": "code",
   "execution_count": 1,
   "metadata": {},
   "outputs": [
    {
     "name": "stdout",
     "output_type": "stream",
     "text": [
      "Populating the interactive namespace from numpy and matplotlib\n"
     ]
    }
   ],
   "source": [
    "import numpy as np\n",
    "import matplotlib.pyplot as plt\n",
    "import seaborn as sns\n",
    "%pylab inline"
   ]
  },
  {
   "cell_type": "markdown",
   "metadata": {},
   "source": [
    "Escreva uma rotina para gerar um conjunto de N dados com função densidade de probabilidade gaussiana de valor verdadeiro x_0=50 com desvio-padrão σ_0=10 e que retorne o valor médio, x_m, e o correspondente desvio-padrão da média, s_m = s/√N, onde s é o desvio-padrão amostral estimado com L=N-1 graus de liberdade."
   ]
  },
  {
   "cell_type": "code",
   "execution_count": 2,
   "metadata": {},
   "outputs": [],
   "source": [
    "def gera_dados(x0, σ0, N):\n",
    "    D = x0 + σ0 * np.random.randn(N)\n",
    "    return np.array([np.mean(D), np.std(D, ddof=1)/np.sqrt(N)])"
   ]
  },
  {
   "cell_type": "markdown",
   "metadata": {},
   "source": [
    "a) Considere o caso em que o número de dados de cada conjunto seja 𝑁 = 3. \n",
    "\n",
    "a.1) Determine, usando a tabela de limites críticos para o teste “𝑡” qual é o valor crítico 𝑡2,\n",
    "que encerra um intervalo de confiança de 95,45% de que o módulo da variável 𝑡 seja\n",
    "menor que 𝑡2."
   ]
  },
  {
   "cell_type": "markdown",
   "metadata": {},
   "source": [
    "< 4.53"
   ]
  },
  {
   "cell_type": "markdown",
   "metadata": {},
   "source": [
    "a.2) Faça o mesmo para o teste “𝑧” (isto é, determine o valor crítico 𝑧2 que encerra um\n",
    "intervalo de confiança de 95,45% de que o módulo da variável 𝑧 seja menor que 𝑧2)."
   ]
  },
  {
   "cell_type": "markdown",
   "metadata": {},
   "source": [
    "< 2"
   ]
  },
  {
   "cell_type": "markdown",
   "metadata": {},
   "source": [
    "b) Use a rotina descrita no enunciado para gerar 𝑁𝑅𝐸𝑃 = 10.000 conjuntos de 𝑁 dados cada e, para cada conjunto gerado, determine o valor da variável aleatória “𝑡” (𝑡 =𝑥𝑚−𝑥0 / 𝜎̃𝑚). Calcule 𝑓𝑡2, a frequência relativa de valores de 𝑡 que têm módulo menor ou igual a 𝑡2 , e sua respectiva incerteza."
   ]
  },
  {
   "cell_type": "code",
   "execution_count": 3,
   "metadata": {},
   "outputs": [
    {
     "data": {
      "image/png": "[encoded data removed]",
      "text/plain": [
       "<Figure size 432x288 with 2 Axes>"
      ]
     },
     "metadata": {
      "needs_background": "light"
     },
     "output_type": "display_data"
    },
    {
     "name": "stdout",
     "output_type": "stream",
     "text": [
      "teste-t =  0.9554  +-  0.0021\n"
     ]
    }
   ],
   "source": [
    "x0, σ0, N, NREP = 50, 10, 3, 10000\n",
    "Dados = np.zeros((NREP,2))\n",
    "for i, ival in enumerate(Dados): Dados[i] = gera_dados(x0, σ0, N)\n",
    "    \n",
    "fig, (ax1, ax2) = plt.subplots(1, 2)\n",
    "fig.suptitle('σm                                            x')\n",
    "ax1.hist(Dados[:,1], bins=60)\n",
    "ax2.hist(Dados[:,0], bins=60)\n",
    "plt.show()\n",
    "\n",
    "t = (Dados[:,0] - x0) / Dados[:,1]\n",
    "t2c = 4.53\n",
    "print('teste-t = ',np.sum(abs(t) <= t2c)/NREP, ' +- ', np.round(np.sqrt(np.sum(abs(t) <= t2c) * (1 - np.sum(abs(t) <= t2c)/NREP))/NREP, decimals=4))"
   ]
  },
  {
   "cell_type": "markdown",
   "metadata": {},
   "source": [
    "c) Use a rotina descrita no enunciado para gerar outros 𝑁𝑅𝐸𝑃 = 10.000 conjuntos de 𝑁 dados cada e, para cada conjunto gerado, determine o valor da variável aleatória “z” (𝑧 = (𝑥𝑚−𝑥0) / 𝜎𝑚0), onde 𝜎𝑚0 é o valor verdadeiro do desvio-padrão da média (𝜎𝑚0 = 𝜎0/√𝑁). Em seguida, calcule 𝑓𝑧2, a frequência relativa de valores de 𝑧 que têm módulo menor ou igual a 𝑧2 , e sua respectiva incerteza."
   ]
  },
  {
   "cell_type": "code",
   "execution_count": 4,
   "metadata": {},
   "outputs": [
    {
     "name": "stdout",
     "output_type": "stream",
     "text": [
      "teste-z =  0.9522  +-  0.0021\n"
     ]
    }
   ],
   "source": [
    "Dados = np.zeros((NREP,2))\n",
    "for i, ival in enumerate(Dados): Dados[i] = gera_dados(x0, σ0, N)\n",
    "    \n",
    "z = (Dados[:,0] - x0) / (σ0/np.sqrt(N))\n",
    "z2c = 2\n",
    "\n",
    "print( 'teste-z = ',np.sum(abs(z) <= z2c)/NREP, ' +- ', np.round(np.sqrt(np.sum(abs(z) <= z2c) * (1 - np.sum(abs(z) <= z2c)/NREP))/NREP, decimals=4))"
   ]
  },
  {
   "cell_type": "markdown",
   "metadata": {},
   "source": [
    "d) Refaça para o caso em que o número de dados gerados em cada conjunto seja 𝑁 = 101."
   ]
  },
  {
   "cell_type": "code",
   "execution_count": 5,
   "metadata": {},
   "outputs": [
    {
     "name": "stdout",
     "output_type": "stream",
     "text": [
      "teste-t =  0.9503  +-  0.0022\n",
      "teste-z =  0.9562  +-  0.002\n"
     ]
    }
   ],
   "source": [
    "N = 101\n",
    "Dados = np.zeros((NREP,2))\n",
    "for i, ival in enumerate(Dados): Dados[i] = gera_dados(x0, σ0, N)\n",
    "t = (Dados[:,0] - x0) / Dados[:,1]\n",
    "t2c = 2.03\n",
    "print( 'teste-t = ',np.round(np.sum(abs(t) <= t2c)/NREP, decimals=5), ' +- ', np.round(np.sqrt(NREP * np.sum(abs(t) <= t2c)/NREP * (1 - np.sum(abs(t) <= t2c)/NREP))/NREP, decimals=4))\n",
    "\n",
    "Dados = np.zeros((NREP,2))\n",
    "for i, ival in enumerate(Dados): Dados[i] = gera_dados(x0, σ0, N)    \n",
    "z = (Dados[:,0] - x0) / (σ0/np.sqrt(N))\n",
    "z2c = 2\n",
    "print( 'teste-z = ',np.sum(abs(z) <= z2c)/NREP, ' +- ', np.round(np.sqrt(NREP * np.sum(abs(z) <= z2c)/NREP * (1 - np.sum(abs(z) <= z2c)/NREP))/NREP, decimals=4))"
   ]
  }
 ],
 "metadata": {
  "kernelspec": {
   "display_name": "Python 3",
   "language": "python",
   "name": "python3"
  },
  "language_info": {
   "codemirror_mode": {
    "name": "ipython",
    "version": 3
   },
   "file_extension": ".py",
   "mimetype": "text/x-python",
   "name": "python",
   "nbconvert_exporter": "python",
   "pygments_lexer": "ipython3",
   "version": "3.7.6"
  }
 },
 "nbformat": 4,
 "nbformat_minor": 4
}
