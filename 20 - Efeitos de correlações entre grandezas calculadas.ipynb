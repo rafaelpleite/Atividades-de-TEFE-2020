{
 "cells": [
  {
   "cell_type": "code",
   "execution_count": 1,
   "metadata": {},
   "outputs": [],
   "source": [
    "import numpy as np\n",
    "import matplotlib.pyplot as plt\n",
    "import seaborn as sns\n",
    "%matplotlib inline"
   ]
  },
  {
   "cell_type": "markdown",
   "metadata": {},
   "source": [
    "Escreva uma rotina para gerar conjuntos de 𝑁 = 100 dados com valor verdadeiro 𝑥0 = 50 𝑚 sujeitos a erros gaussianos independentes de desvio-padrão verdadeiro 𝜎0 = 1 𝑚.\n",
    "\n",
    "\n",
    "Gere 𝑛𝑅𝐸𝑃 = 10.000 conjuntos de 𝑁 dados com essas características e registre, para cada conjunto gerado, o valor médio, 𝑥𝑚, a mediana, 𝑥𝑀, o desvio-padrão amostral, 𝑠𝑥, o número dedados no intervalo de 1 desvio-padrão verdadeiro ao redor do valor verdadeiro, 𝑛 (𝑛 é onúmero de dados em que |𝑥𝑖 − 𝑥0| ≤ 𝜎0) e o número de dados no intervalo de 1 desvio-padrão ao redor do valor médio, 𝑚 (𝑚 é quantos dos 𝑁 dados |𝑥𝑖 − 𝑥𝑚| ≤ 𝑠𝑥)."
   ]
  },
  {
   "cell_type": "code",
   "execution_count": 14,
   "metadata": {},
   "outputs": [],
   "source": [
    "def calc(x0, σ0, N, nREP):\n",
    "    return x0 + σ0*np.random.randn(nREP, N)"
   ]
  },
  {
   "cell_type": "code",
   "execution_count": 18,
   "metadata": {},
   "outputs": [],
   "source": [
    "x0, σ0, N, nREP = 50, 1, 100, 10000\n",
    "P = calc(x0, σ0,N, nREP)\n",
    "P_medio = np.array([np.mean(i) for i in P])\n",
    "P_mediana = np.array([np.median(i) for i in P])"
   ]
  },
  {
   "cell_type": "markdown",
   "metadata": {},
   "source": [
    "a) Vamos trabalhar agora com as médias, 𝑥𝑚, e medianas, 𝑥𝑀, dos 𝑛𝑅𝐸𝑃 conjuntos.\n",
    "\n",
    "a.1) Determine os desvios-padrões amostrais das médias e das medianas"
   ]
  },
  {
   "cell_type": "code",
   "execution_count": 19,
   "metadata": {},
   "outputs": [
    {
     "name": "stdout",
     "output_type": "stream",
     "text": [
      "σMédio é (0.0994 +/- 0.0007)m\n",
      "E o σmediana é (0.1237 +/- 0.0009)m\n"
     ]
    }
   ],
   "source": [
    "print('σMédio é ({:.4f} +/- {:.4f})m\\nE o σmediana é ({:.4f} +/- {:.4f})m'.format(np.std(P_medio, ddof=1), np.std(P_medio, ddof=1)/np.sqrt(2*(nREP - 1)), np.std(P_mediana, ddof=1), np.std(P_mediana, ddof=1)/np.sqrt(2*(nREP - 1)) ))"
   ]
  },
  {
   "cell_type": "markdown",
   "metadata": {},
   "source": [
    "a.2) Suponha que alguém pense que seria uma boa ideia combinar a média com a mediana para obter uma melhor estimativa do valor verdadeiro da grandeza. Para avaliar essa ideia, calcule o valor de 𝑧 = (𝑥𝑚 + 𝑥𝑀)/2 para cada um dos 𝑛𝑅𝐸𝑃 conjuntos e determine o desvio-padrão amostral de 𝑧. "
   ]
  },
  {
   "cell_type": "code",
   "execution_count": 20,
   "metadata": {},
   "outputs": [
    {
     "name": "stdout",
     "output_type": "stream",
     "text": [
      "σZ é (0.1058 +/- 0.0007)m\n"
     ]
    }
   ],
   "source": [
    "Z = np.add(np.array(P_medio), np.array(P_mediana))/2\n",
    "print('σZ é ({:.4f} +/- {:.4f})m'.format(np.std(Z, ddof=1), np.std(Z, ddof=1)/np.sqrt(2 * (nREP - 1)) ))"
   ]
  },
  {
   "cell_type": "markdown",
   "metadata": {},
   "source": [
    "b) Vamos trabalhar agora com os números de dados no intervalo de um desvio-padrão\n",
    "verdadeiro ao redor do valor verdadeiro, 𝑛, e de um desvio-padrão amostral ao redor do valor\n",
    "médio, 𝑚, dos 𝑛𝑅𝐸𝑃 conjuntos."
   ]
  },
  {
   "cell_type": "markdown",
   "metadata": {},
   "source": [
    "b.1) Determine o valor médio de 𝑛 e de 𝑚 com suas respectivas incertezas (determine a\n",
    "incerteza nesses valores médios pelos desvios-padrões das médias de 𝑛 e de 𝑚). Esses valores\n",
    "médios são equivalentes?"
   ]
  },
  {
   "cell_type": "code",
   "execution_count": 34,
   "metadata": {},
   "outputs": [
    {
     "ename": "IndexError",
     "evalue": "index 100 is out of bounds for axis 1 with size 100",
     "output_type": "error",
     "traceback": [
      "\u001b[1;31m---------------------------------------------------------------------------\u001b[0m",
      "\u001b[1;31mIndexError\u001b[0m                                Traceback (most recent call last)",
      "\u001b[1;32m<ipython-input-34-6cc54b7ab953>\u001b[0m in \u001b[0;36m<module>\u001b[1;34m\u001b[0m\n\u001b[0;32m      3\u001b[0m \u001b[0mm\u001b[0m \u001b[1;33m=\u001b[0m \u001b[0mnp\u001b[0m\u001b[1;33m.\u001b[0m\u001b[0mzeros\u001b[0m\u001b[1;33m(\u001b[0m\u001b[1;33m(\u001b[0m\u001b[0mlen\u001b[0m\u001b[1;33m(\u001b[0m\u001b[0mP_medio\u001b[0m\u001b[1;33m)\u001b[0m\u001b[1;33m,\u001b[0m\u001b[1;36m1\u001b[0m\u001b[1;33m)\u001b[0m\u001b[1;33m)\u001b[0m\u001b[1;33m\u001b[0m\u001b[1;33m\u001b[0m\u001b[0m\n\u001b[0;32m      4\u001b[0m \u001b[1;32mfor\u001b[0m \u001b[0mi\u001b[0m \u001b[1;32min\u001b[0m \u001b[0mrange\u001b[0m\u001b[1;33m(\u001b[0m\u001b[0mlen\u001b[0m\u001b[1;33m(\u001b[0m\u001b[0mm\u001b[0m\u001b[1;33m)\u001b[0m\u001b[1;33m)\u001b[0m\u001b[1;33m:\u001b[0m\u001b[1;33m\u001b[0m\u001b[1;33m\u001b[0m\u001b[0m\n\u001b[1;32m----> 5\u001b[1;33m     \u001b[0mm\u001b[0m\u001b[1;33m[\u001b[0m\u001b[0mi\u001b[0m\u001b[1;33m]\u001b[0m \u001b[1;33m=\u001b[0m \u001b[0msum\u001b[0m\u001b[1;33m(\u001b[0m \u001b[0mabs\u001b[0m\u001b[1;33m(\u001b[0m\u001b[0mP\u001b[0m\u001b[1;33m[\u001b[0m\u001b[1;33m:\u001b[0m\u001b[1;33m,\u001b[0m\u001b[0mi\u001b[0m\u001b[1;33m]\u001b[0m\u001b[1;33m)\u001b[0m \u001b[1;33m-\u001b[0m \u001b[0mnp\u001b[0m\u001b[1;33m.\u001b[0m\u001b[0mmean\u001b[0m\u001b[1;33m(\u001b[0m\u001b[0mP\u001b[0m\u001b[1;33m[\u001b[0m\u001b[1;33m:\u001b[0m\u001b[1;33m,\u001b[0m\u001b[0mi\u001b[0m\u001b[1;33m]\u001b[0m\u001b[1;33m)\u001b[0m\u001b[1;33m<\u001b[0m \u001b[0mnp\u001b[0m\u001b[1;33m.\u001b[0m\u001b[0mstd\u001b[0m\u001b[1;33m(\u001b[0m\u001b[0mP\u001b[0m\u001b[1;33m[\u001b[0m\u001b[1;33m:\u001b[0m\u001b[1;33m,\u001b[0m\u001b[0mi\u001b[0m\u001b[1;33m]\u001b[0m\u001b[1;33m,\u001b[0m \u001b[0mddof\u001b[0m\u001b[1;33m=\u001b[0m \u001b[1;36m1\u001b[0m\u001b[1;33m)\u001b[0m \u001b[1;33m)\u001b[0m\u001b[1;33m\u001b[0m\u001b[1;33m\u001b[0m\u001b[0m\n\u001b[0m\u001b[0;32m      6\u001b[0m \u001b[0mprint\u001b[0m\u001b[1;33m(\u001b[0m\u001b[1;34m'Valor de n {:.2f}\\nValor de m {:.2f}'\u001b[0m\u001b[1;33m.\u001b[0m\u001b[0mformat\u001b[0m\u001b[1;33m(\u001b[0m\u001b[0mn\u001b[0m\u001b[1;33m,\u001b[0m \u001b[0mm\u001b[0m\u001b[1;33m)\u001b[0m\u001b[1;33m)\u001b[0m\u001b[1;33m\u001b[0m\u001b[1;33m\u001b[0m\u001b[0m\n\u001b[0;32m      7\u001b[0m \u001b[0mlen\u001b[0m\u001b[1;33m(\u001b[0m\u001b[0mP_medio\u001b[0m\u001b[1;33m)\u001b[0m\u001b[1;33m\u001b[0m\u001b[1;33m\u001b[0m\u001b[0m\n",
      "\u001b[1;31mIndexError\u001b[0m: index 100 is out of bounds for axis 1 with size 100"
     ]
    }
   ],
   "source": [
    "n = np.sum(abs(P - x0) <= σ0)/len(P)\n",
    "#m = np.sum(abs(P_medio - x0) <= np.std(P_medio, ddof=1))/len(P_medio)\n",
    "m = np.zeros((len(P_medio),1))\n",
    "for i in range(len(m)):\n",
    "    m[i] = sum( abs(P[:,i]) - np.mean(P[:,i])< np.std(P[:,i], ddof= 1) )\n",
    "print('Valor de n {:.2f}\\nValor de m {:.2f}'.format(n, m))\n",
    "len(P_medio)"
   ]
  },
  {
   "cell_type": "markdown",
   "metadata": {},
   "source": [
    "b.2) Usando seus conhecimentos sobre binomial, calcule o valor esperado para o número\n",
    "de sucessos em 𝑁 tentativas independentes com probabilidade individual de sucesso, 𝑝 =\n",
    "0,6826 (correspondente à integral da gaussiana padrão entre -1 e +1)."
   ]
  },
  {
   "cell_type": "code",
   "execution_count": 25,
   "metadata": {},
   "outputs": [
    {
     "name": "stdout",
     "output_type": "stream",
     "text": [
      "Valor esperado 68 para 100 tentativas\n"
     ]
    }
   ],
   "source": [
    "N = 100\n",
    "p = 0.6826\n",
    "n_0 = N*p\n",
    "print('Valor esperado {:.0f} para {:.0f} tentativas'.format(n_0, N))"
   ]
  },
  {
   "cell_type": "markdown",
   "metadata": {},
   "source": [
    "b.3) Determine os desvios-padrões amostrais de 𝑛 e de 𝑚. Esses desvios-padrões são\n",
    "equivalentes?"
   ]
  },
  {
   "cell_type": "code",
   "execution_count": 189,
   "metadata": {},
   "outputs": [
    {
     "data": {
      "text/plain": [
       "0.059795888238013475"
      ]
     },
     "execution_count": 189,
     "metadata": {},
     "output_type": "execute_result"
    }
   ],
   "source": [
    "np.std(abs(P - x0), ddof = 1)\n",
    "np.std(abs(P_medio - x0))"
   ]
  },
  {
   "cell_type": "markdown",
   "metadata": {},
   "source": [
    "b.4) Usando seus conhecimentos sobre binomial, calcule o valor esperado para o desviopadrão do número de sucessos em 𝑁 tentativas independentes com probabilidade individual de\n",
    "sucesso, 𝑝 = 0,6826."
   ]
  },
  {
   "cell_type": "code",
   "execution_count": null,
   "metadata": {},
   "outputs": [],
   "source": []
  }
 ],
 "metadata": {
  "kernelspec": {
   "display_name": "Python 3",
   "language": "python",
   "name": "python3"
  },
  "language_info": {
   "codemirror_mode": {
    "name": "ipython",
    "version": 3
   },
   "file_extension": ".py",
   "mimetype": "text/x-python",
   "name": "python",
   "nbconvert_exporter": "python",
   "pygments_lexer": "ipython3",
   "version": "3.8.3"
  }
 },
 "nbformat": 4,
 "nbformat_minor": 4
}
