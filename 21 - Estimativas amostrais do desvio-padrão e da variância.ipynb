{
 "cells": [
  {
   "cell_type": "code",
   "execution_count": 1,
   "metadata": {},
   "outputs": [],
   "source": [
    "import numpy as np\n",
    "import matplotlib.pyplot as plt\n",
    "import seaborn as sns\n",
    "%matplotlib inline"
   ]
  },
  {
   "cell_type": "markdown",
   "metadata": {},
   "source": [
    "Nesta atividade iremos considerar dados estatisticamente independentes com função densidade de probabilidade gaussiana, de valor verdadeiro 𝑥0 = 0 e desvio-padrão verdadeiro 𝜎0 = 1. Gere 𝑀 = 10.000 conjuntos de 𝑁 = 5 dados cada e, para cada conjunto, calcule o desvio-padrão amostral, 𝑠, e a variância amostral, 𝑉."
   ]
  },
  {
   "cell_type": "code",
   "execution_count": 17,
   "metadata": {},
   "outputs": [],
   "source": [
    "def func(x0, σ0, M, N):\n",
    "    return x0 + σ0 * np.random.randn(M, N)\n",
    "x0, σ0, M, N = 0, 1, 10000, 5\n",
    "p = func(x0, σ0, M, N)"
   ]
  },
  {
   "cell_type": "code",
   "execution_count": 18,
   "metadata": {},
   "outputs": [],
   "source": [
    "desvp, var = np.zeros((M,1)), np.zeros((M,1))\n",
    "for i, vec in enumerate(p):\n",
    "    desvp[i] = np.var(vec)\n",
    "    var[i] = np.std(vec, ddof=1)"
   ]
  },
  {
   "cell_type": "markdown",
   "metadata": {},
   "source": [
    "a) Faça histogramas dos 𝑀 valores de 𝑠 e de 𝑉 (imagens desses histogramas para os casos de N=100, N=5\n",
    "e N=2 deverão ser enviados)."
   ]
  },
  {
   "cell_type": "markdown",
   "metadata": {},
   "source": [
    "N = 100"
   ]
  },
  {
   "cell_type": "code",
   "execution_count": 20,
   "metadata": {},
   "outputs": [
    {
     "data": {
      "text/plain": [
       "array([[1.02842803],\n",
       "       [0.89895444],\n",
       "       [0.73064469],\n",
       "       ...,\n",
       "       [1.0551881 ],\n",
       "       [0.93269773],\n",
       "       [0.98835653]])"
      ]
     },
     "execution_count": 20,
     "metadata": {},
     "output_type": "execute_result"
    }
   ],
   "source": [
    "N = 100\n",
    "p = func(x0, σ0, M, N)\n",
    "desvp, var = np.zeros((M,1)), np.zeros((M,1))\n",
    "for i, vec in enumerate(p):\n",
    "    desvp[i] = np.var(vec, ddof=1)\n",
    "    var[i] = np.std(vec, ddof=1)\n",
    "    \n",
    "desvp"
   ]
  },
  {
   "cell_type": "code",
   "execution_count": 5,
   "metadata": {},
   "outputs": [
    {
     "data": {
      "image/png": "[encoded data removed]",
      "text/plain": [
       "<Figure size 432x288 with 1 Axes>"
      ]
     },
     "metadata": {
      "needs_background": "light"
     },
     "output_type": "display_data"
    }
   ],
   "source": [
    "sns.distplot(desvp, kde=False, bins=30, color='r')\n",
    "plt.title('Desvio padrão para n = '+ str(N))\n",
    "plt.xlim(0)\n",
    "plt.savefig('TEFE21/desvpad' + str(N) + '.png')"
   ]
  },
  {
   "cell_type": "code",
   "execution_count": 6,
   "metadata": {},
   "outputs": [
    {
     "data": {
      "image/png": "[encoded data removed]",
      "text/plain": [
       "<Figure size 432x288 with 1 Axes>"
      ]
     },
     "metadata": {
      "needs_background": "light"
     },
     "output_type": "display_data"
    }
   ],
   "source": [
    "sns.distplot(var, kde=False, bins=30, color='r')\n",
    "plt.xlim(0)\n",
    "plt.title('Variância para n = '+ str(N))\n",
    "plt.xlim(0)\n",
    "plt.savefig('TEFE21/var' + str(N) + '.png')"
   ]
  },
  {
   "cell_type": "markdown",
   "metadata": {},
   "source": [
    "N = 5"
   ]
  },
  {
   "cell_type": "code",
   "execution_count": 7,
   "metadata": {},
   "outputs": [],
   "source": [
    "N = 5\n",
    "p = func(x0, σ0, M, N)\n",
    "desvp, var = np.zeros((M,1)), np.zeros((M,1))\n",
    "for i, vec in enumerate(p):\n",
    "    desvp[i] = np.var(vec)\n",
    "    var[i] = np.std(vec, ddof=1)"
   ]
  },
  {
   "cell_type": "code",
   "execution_count": 8,
   "metadata": {},
   "outputs": [
    {
     "data": {
      "image/png": "[encoded data removed]",
      "text/plain": [
       "<Figure size 432x288 with 1 Axes>"
      ]
     },
     "metadata": {
      "needs_background": "light"
     },
     "output_type": "display_data"
    }
   ],
   "source": [
    "sns.distplot(desvp, kde=False, bins=30, color='r')\n",
    "plt.title('Desvio padrão para n = '+ str(N))\n",
    "plt.xlim(0)\n",
    "plt.savefig('TEFE21/desvpad' + str(N) + '.png')"
   ]
  },
  {
   "cell_type": "code",
   "execution_count": 9,
   "metadata": {},
   "outputs": [
    {
     "data": {
      "image/png": "[encoded data removed]",
      "text/plain": [
       "<Figure size 432x288 with 1 Axes>"
      ]
     },
     "metadata": {
      "needs_background": "light"
     },
     "output_type": "display_data"
    }
   ],
   "source": [
    "sns.distplot(var, kde=False, bins=30, color='r')\n",
    "plt.xlim(0)\n",
    "plt.title('Variância para n = '+ str(N))\n",
    "plt.xlim(0)\n",
    "plt.savefig('TEFE21/var' + str(N) + '.png')"
   ]
  },
  {
   "cell_type": "markdown",
   "metadata": {},
   "source": [
    "N = 2"
   ]
  },
  {
   "cell_type": "code",
   "execution_count": 10,
   "metadata": {},
   "outputs": [],
   "source": [
    "N = 2\n",
    "p = func(x0, σ0, M, N)\n",
    "desvp, var = np.zeros((M,1)), np.zeros((M,1))\n",
    "for i, vec in enumerate(p):\n",
    "    desvp[i] = np.var(vec)\n",
    "    var[i] = np.std(vec, ddof=1)"
   ]
  },
  {
   "cell_type": "code",
   "execution_count": 11,
   "metadata": {},
   "outputs": [
    {
     "data": {
      "text/plain": [
       "0.9981567748044913"
      ]
     },
     "execution_count": 11,
     "metadata": {},
     "output_type": "execute_result"
    }
   ],
   "source": [
    "np.var(p, ddof=1)"
   ]
  },
  {
   "cell_type": "code",
   "execution_count": 12,
   "metadata": {},
   "outputs": [
    {
     "data": {
      "image/png": "[encoded data removed]",
      "text/plain": [
       "<Figure size 432x288 with 1 Axes>"
      ]
     },
     "metadata": {
      "needs_background": "light"
     },
     "output_type": "display_data"
    }
   ],
   "source": [
    "sns.distplot(desvp, kde=False, bins=30, color='r')\n",
    "plt.title('Desvio padrão para n = '+ str(N))\n",
    "plt.xlim(0)\n",
    "plt.savefig('TEFE21/desvpad' + str(N) + '.png')"
   ]
  },
  {
   "cell_type": "code",
   "execution_count": 13,
   "metadata": {},
   "outputs": [
    {
     "data": {
      "image/png": "[encoded data removed]",
      "text/plain": [
       "<Figure size 432x288 with 1 Axes>"
      ]
     },
     "metadata": {
      "needs_background": "light"
     },
     "output_type": "display_data"
    }
   ],
   "source": [
    "sns.distplot(var, kde=False, bins=30, color='r')\n",
    "plt.xlim(0)\n",
    "plt.title('Variância para n = '+ str(N))\n",
    "plt.savefig('TEFE21/var' + str(N) + '.png')"
   ]
  },
  {
   "cell_type": "markdown",
   "metadata": {},
   "source": [
    "b) Usando os 𝑀 valores de 𝑠 e 𝑉 , calcule as grandezas pedidas a seguir, preenchendo a coluna\n",
    "correspondente da tabela:\n",
    "    \n",
    "b.1) Calcule 𝑠𝑚, a média dos 𝑀 valores do desvio-padrão amostral, 𝑠. Estime a incerteza de 𝑠𝑚.\n",
    "\n",
    "b.2) Calcule 𝑉𝑚, o valor médio dos 𝑀 valores da variância amostral, 𝑉 = 𝑠2. Estime a incerteza de 𝑉𝑚.\n",
    "\n",
    "b.3) Quantos dos 𝑀 valores de 𝑠 são menores que o desvio-padrão verdadeiro, 𝜎0? E quantos valoresde 𝑉 são menores que a variância verdadeira, 𝑉0 = 𝜎0 2? Estime a incerteza nessas contagens.\n",
    "\n",
    "Repita para os casos em que 𝑁 = 100, 50, 10, 4, 3 𝑒 2 (sempre para 𝑀 = 10.000 conjuntos) epreencha toda a tabela (uma foto ou arquivo pdf da tabela preenchida deverá ser enviada)."
   ]
  },
  {
   "cell_type": "markdown",
   "metadata": {},
   "source": [
    "Vamos fazer isso com DataFrames."
   ]
  },
  {
   "cell_type": "code",
   "execution_count": 21,
   "metadata": {},
   "outputs": [],
   "source": [
    "import pandas as pd"
   ]
  },
  {
   "cell_type": "code",
   "execution_count": 83,
   "metadata": {},
   "outputs": [],
   "source": [
    "N = (100, 50, 10, 5, 4, 3, 2)\n",
    "Sm, Vm, Sn, Vn = np.zeros(len(N)), np.zeros(len(N)), np.zeros(len(N)), np.zeros(len(N))\n",
    "for i, valor in enumerate(N):\n",
    "    p = func(x0, σ0, M, valor)\n",
    "    Sm[i] = np.std(p, axis=1, ddof=1).mean()\n",
    "    Vm[i] = np.var(p, axis=1, ddof=1).mean()\n",
    "    Sn[i] = int(np.sum(np.std(p, axis=1, ddof=1) <= σ0))\n",
    "    Vn[i] = int(np.sum(np.var(p, axis=1, ddof=1) <= σ0**2 ))\n",
    "arr = np.stack((Sm, Vm, Sn, Vn), axis=0)\n",
    "\n",
    "\n",
    "idx = {'': ['Sm', 'Vm', 's <= σ0', 'V <= V0']}\n",
    "d = {'N = 100': [arr[:,0][0], arr[:,0][1], str(arr[:,0][2]), str(arr[:,0][3])], \n",
    "     'N = 50': [arr[:,1][0], arr[:,1][1], str(arr[:,1][2]), str(arr[:,1][3])], \n",
    "     'N = 10': [arr[:,2][0], arr[:,2][1], str(arr[:,2][2]), str(arr[:,2][3])], \n",
    "     'N = 5': [arr[:,3][0], arr[:,3][1], str(arr[:,3][2]), str(arr[:,3][3])], \n",
    "     'N = 4': [arr[:,4][0], arr[:,4][1], str(arr[:,4][2]), str(arr[:,4][3])], \n",
    "     'N = 3': [arr[:,5][0], arr[:,5][1], str(arr[:,5][2]), str(arr[:,5][3])], \n",
    "     'N = 2': [arr[:,6][0], arr[:,6][1], str(arr[:,6][2]), str(arr[:,6][3])]}\n",
    "df = pd.DataFrame(data=d, index=['Sm', 'Vm', 's <= σ0', 'V <= V0'])"
   ]
  },
  {
   "cell_type": "code",
   "execution_count": 84,
   "metadata": {},
   "outputs": [
    {
     "data": {
      "text/html": [
       "<div>\n",
       "<style scoped>\n",
       "    .dataframe tbody tr th:only-of-type {\n",
       "        vertical-align: middle;\n",
       "    }\n",
       "\n",
       "    .dataframe tbody tr th {\n",
       "        vertical-align: top;\n",
       "    }\n",
       "\n",
       "    .dataframe thead th {\n",
       "        text-align: right;\n",
       "    }\n",
       "</style>\n",
       "<table border=\"1\" class=\"dataframe\">\n",
       "  <thead>\n",
       "    <tr style=\"text-align: right;\">\n",
       "      <th></th>\n",
       "      <th>N = 100</th>\n",
       "      <th>N = 50</th>\n",
       "      <th>N = 10</th>\n",
       "      <th>N = 5</th>\n",
       "      <th>N = 4</th>\n",
       "      <th>N = 3</th>\n",
       "      <th>N = 2</th>\n",
       "    </tr>\n",
       "  </thead>\n",
       "  <tbody>\n",
       "    <tr>\n",
       "      <th>Sm</th>\n",
       "      <td>0.997588</td>\n",
       "      <td>0.995311</td>\n",
       "      <td>0.974178</td>\n",
       "      <td>0.939104</td>\n",
       "      <td>0.926532</td>\n",
       "      <td>0.885834</td>\n",
       "      <td>0.798335</td>\n",
       "    </tr>\n",
       "    <tr>\n",
       "      <th>Vm</th>\n",
       "      <td>1.00027</td>\n",
       "      <td>1.0006</td>\n",
       "      <td>1.00183</td>\n",
       "      <td>1.00058</td>\n",
       "      <td>1.01114</td>\n",
       "      <td>0.995305</td>\n",
       "      <td>0.985388</td>\n",
       "    </tr>\n",
       "    <tr>\n",
       "      <th>s &lt;= σ0</th>\n",
       "      <td>5109.0</td>\n",
       "      <td>5194.0</td>\n",
       "      <td>5579.0</td>\n",
       "      <td>5923.0</td>\n",
       "      <td>5998.0</td>\n",
       "      <td>6287.0</td>\n",
       "      <td>6821.0</td>\n",
       "    </tr>\n",
       "    <tr>\n",
       "      <th>V &lt;= V0</th>\n",
       "      <td>5109.0</td>\n",
       "      <td>5194.0</td>\n",
       "      <td>5579.0</td>\n",
       "      <td>5923.0</td>\n",
       "      <td>5998.0</td>\n",
       "      <td>6287.0</td>\n",
       "      <td>6821.0</td>\n",
       "    </tr>\n",
       "  </tbody>\n",
       "</table>\n",
       "</div>"
      ],
      "text/plain": [
       "          N = 100    N = 50    N = 10     N = 5     N = 4     N = 3     N = 2\n",
       "Sm       0.997588  0.995311  0.974178  0.939104  0.926532  0.885834  0.798335\n",
       "Vm        1.00027    1.0006   1.00183   1.00058   1.01114  0.995305  0.985388\n",
       "s <= σ0    5109.0    5194.0    5579.0    5923.0    5998.0    6287.0    6821.0\n",
       "V <= V0    5109.0    5194.0    5579.0    5923.0    5998.0    6287.0    6821.0"
      ]
     },
     "execution_count": 84,
     "metadata": {},
     "output_type": "execute_result"
    }
   ],
   "source": [
    "df"
   ]
  },
  {
   "cell_type": "code",
   "execution_count": null,
   "metadata": {},
   "outputs": [],
   "source": []
  }
 ],
 "metadata": {
  "kernelspec": {
   "display_name": "Python 3",
   "language": "python",
   "name": "python3"
  },
  "language_info": {
   "codemirror_mode": {
    "name": "ipython",
    "version": 3
   },
   "file_extension": ".py",
   "mimetype": "text/x-python",
   "name": "python",
   "nbconvert_exporter": "python",
   "pygments_lexer": "ipython3",
   "version": "3.7.6"
  }
 },
 "nbformat": 4,
 "nbformat_minor": 4
}
